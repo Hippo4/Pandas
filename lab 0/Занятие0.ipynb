{
  "nbformat": 4,
  "nbformat_minor": 0,
  "metadata": {
    "colab": {
      "provenance": []
    },
    "kernelspec": {
      "name": "python3",
      "display_name": "Python 3"
    },
    "language_info": {
      "name": "python"
    }
  },
  "cells": [
    {
      "cell_type": "markdown",
      "source": [
        "# **Блокнот 0**"
      ],
      "metadata": {
        "id": "P32MLfTFaOoF"
      }
    },
    {
      "cell_type": "markdown",
      "source": [
        "**Задание 1**\n",
        "\n",
        "\n",
        "На вход программе подается строка текста – имя человека.\n",
        "\n",
        " Напишите программу, которая выводит на экран приветствие в виде слова «Привет, » (без кавычек), после которого должна стоять запятая и пробел, а затем введенное имя.\n",
        "\n",
        " Для считывания текста используйте команду input(), для печати текста на экране используйте команду print().\n",
        "\n",
        "**Пример:**\n",
        "\n",
        " ввод данных: Екатерина\n",
        "\n",
        " вывод данных: Привет, Екатерина"
      ],
      "metadata": {
        "id": "Jcxo1pmZb356"
      }
    },
    {
      "cell_type": "code",
      "source": [
        "a=input()\n",
        "print('Привет,',a)"
      ],
      "metadata": {
        "colab": {
          "base_uri": "https://localhost:8080/"
        },
        "id": "KDf1owDPaTJC",
        "outputId": "ae872803-6e09-4ee5-bdfa-5ad3bf5debdc"
      },
      "execution_count": null,
      "outputs": [
        {
          "output_type": "stream",
          "name": "stdout",
          "text": [
            "Екатерина\n",
            "Привет, Екатерина\n"
          ]
        }
      ]
    },
    {
      "cell_type": "markdown",
      "source": [
        "**Задание 2**\n",
        "\n",
        "\n",
        "На вход программе подаётся целое число — возраст пользователя. Программа должна вывести текст:\n",
        "*   «Доступ разрешен», если возраст не менее 18;\n",
        "*   «Доступ ограничен», если возраст от 14 до 17 лет (включительно);\n",
        "*   «Доступ запрещен», если возраст менее 14 лет.\n",
        "\n",
        "Для считывания возраста используйте команду input(), не забыв преобразовать тип данных в числовой с помощью int(); для печати текста на экране используйте команду print(). Используйте условные операторы if-elif-else.\n",
        "\n",
        "**Пример:**\n",
        "\n",
        " ввод данных: 17\n",
        "\n",
        " вывод данных: Доступ ограничен\n"
      ],
      "metadata": {
        "id": "v4ph2f8odfWX"
      }
    },
    {
      "cell_type": "code",
      "source": [
        "age = int(input(\"Введите возраст: \"))\n",
        "\n",
        "if age >= 18:\n",
        "\n",
        "    print('Доступ разрешён')\n",
        "\n",
        "elif age >= 14 <= 17:\n",
        "  print('Доступ ограничен')\n",
        "\n",
        "elif age <14:\n",
        "  print('Доступ запрещен')"
      ],
      "metadata": {
        "colab": {
          "base_uri": "https://localhost:8080/"
        },
        "id": "lYxDAuDxdloA",
        "outputId": "7319db66-4eff-41b5-d0e9-c366eef0b7fb"
      },
      "execution_count": null,
      "outputs": [
        {
          "output_type": "stream",
          "name": "stdout",
          "text": [
            "Введите возраст: 17\n",
            "Доступ ограничен\n"
          ]
        }
      ]
    },
    {
      "cell_type": "markdown",
      "source": [
        "**Задание 3**\n",
        "\n",
        "На вход программе подаётся:\n",
        "*   на первой строке - текстовое предложение;\n",
        "*   на второй строке - количество повторений (целое число).\n",
        "\n",
        "Напишите программу, которая выводит предложение нужное количество раз (каждое предложение должно начинаться с новой строки).\n",
        "\n",
        "Для считывания текста и числа повторений используйте команду input(), не забыв преобразовать тип данных в числовой с помощью int() для количества повторений; для печати текста на экране используйте команду print(). Используйте цикл for.\n",
        "\n",
        "**Пример:**\n",
        "\n",
        " ввод данных:\n",
        "*   Век живи - век учись!\n",
        "*   3\n",
        "\n",
        "вывод данных:\n",
        "\n",
        "Век живи - век учись!\n",
        "\n",
        "Век живи - век учись!\n",
        "\n",
        "Век живи - век учись!"
      ],
      "metadata": {
        "id": "bM2iMu27f0-P"
      }
    },
    {
      "cell_type": "code",
      "source": [
        "a=input()\n",
        "b=int(input())\n",
        "for i in range(b):\n",
        "    print(a)"
      ],
      "metadata": {
        "colab": {
          "base_uri": "https://localhost:8080/"
        },
        "id": "nNYnzAWAf9eU",
        "outputId": "6644781c-07d9-4e69-f221-093809128a13"
      },
      "execution_count": null,
      "outputs": [
        {
          "output_type": "stream",
          "name": "stdout",
          "text": [
            "Век живи - век учись!\n",
            "3\n",
            "Век живи - век учись!\n",
            "Век живи - век учись!\n",
            "Век живи - век учись!\n"
          ]
        }
      ]
    },
    {
      "cell_type": "markdown",
      "source": [
        "**Задание 4**\n",
        "\n",
        "Реализуйте задачу 3 через цикл while."
      ],
      "metadata": {
        "id": "imr3s1k0hO6q"
      }
    },
    {
      "cell_type": "code",
      "source": [
        "text = input('data input:')\n",
        "amount = int(input())\n",
        "while amount:\n",
        "     print(text)\n",
        "     amount -=1"
      ],
      "metadata": {
        "colab": {
          "base_uri": "https://localhost:8080/"
        },
        "id": "_Pgtjq8lhRtT",
        "outputId": "d86fe986-2c9a-4768-afd9-b81db8b9fdc2"
      },
      "execution_count": null,
      "outputs": [
        {
          "output_type": "stream",
          "name": "stdout",
          "text": [
            "data input:Привет\n",
            "4\n",
            "Привет\n",
            "Привет\n",
            "Привет\n",
            "Привет\n"
          ]
        }
      ]
    },
    {
      "cell_type": "markdown",
      "source": [
        "Задание 5\n",
        "\n",
        "Напишите функцию print_fio(name, surname, patronymic), которая принимает три параметра:\n",
        "*   name – имя человека;\n",
        "*   surname – фамилия человека;\n",
        "*   patronymic – отчество человека;\n",
        "\n",
        "а затем выводит на печать ФИО человека (на одной строке, только первые буквы в порядке surname-name-patronymic).\n",
        "\n",
        "Добавьте комментарий перед каждым этапом:\n",
        "\n",
        "*   #объявление функции\n",
        "> def print_fio(name, surname, patronymic)\n",
        "*   #ввод данных\n",
        "> name, surname, patronymic =\n",
        "*   #вызов функции\n",
        "> print_fio(name, surname, patronymic)\n",
        "\n",
        "Для считывания текста используйте команду input(); для печати текста на экране используйте команду print(), добавив параметр sep='' для печати на одной строке. Используйте def для объявления функции.\n",
        "\n",
        "**Пример:**\n",
        "\n",
        " ввод данных:\n",
        "*   Иван\n",
        "*   Сидоров\n",
        "*   Петрович\n",
        "\n",
        "вывод данных: СИП\n"
      ],
      "metadata": {
        "id": "5K58iMkChlZs"
      }
    },
    {
      "cell_type": "code",
      "source": [
        "def print_fio(name, surname, patronymic):\n",
        "  print(surname[0], name[0], patronymic[0], sep='')\n",
        "name, surname, patronymic = input().upper(), input().upper(), input().upper()\n",
        "print_fio(name, surname, patronymic)\n",
        "\n"
      ],
      "metadata": {
        "colab": {
          "base_uri": "https://localhost:8080/"
        },
        "id": "jmhxUbSTiroY",
        "outputId": "4feb1c8c-f43b-4b87-dfba-62fc63d9b56f"
      },
      "execution_count": null,
      "outputs": [
        {
          "output_type": "stream",
          "name": "stdout",
          "text": [
            "Смирнов\n",
            "Владимир\n",
            "Олегович\n",
            "ВСО\n"
          ]
        }
      ]
    },
    {
      "cell_type": "markdown",
      "source": [
        "**Задание 6**\n",
        "\n",
        "Импортируйте библиотеку pandas с именем pd. Скопируйте словарь, у которого в качестве ключей - столбцы таблицы, а в качестве значений в списках - данные таблицы:\n",
        "> data = {'col 1': ['Я', 'Python', 'Буду'], 'col 2': ['люблю', 'мой', 'стараться'], 'col 3': ['анализ', 'лучший', 'хорошо'], 'col 4': ['данных', 'друг', 'учиться']}\n",
        "\n",
        "Создайте таблицу, скопировав следующий код:\n",
        "> df = pd.DataFrame(data)\n",
        "\n",
        "где df - имя таблицы, pd.DataFrame() - конструктор таблицы, data - словарь.\n",
        "\n",
        "Выведите таблицу через print() либо просто ее вызовом без print().\n"
      ],
      "metadata": {
        "id": "9dl-Dkf-jfvr"
      }
    },
    {
      "cell_type": "code",
      "source": [
        "import pandas as pd\n",
        "data = {'col 1': ['Я', 'Python', 'Буду'], 'col 2': ['люблю', 'мой', 'стараться'], 'col 3': ['анализ', 'лучший', 'хорошо'], 'col 4': ['данных', 'друг', 'учиться']}\n",
        "df = pd.DataFrame(data)\n",
        "print(df)"
      ],
      "metadata": {
        "colab": {
          "base_uri": "https://localhost:8080/"
        },
        "id": "U2R1l3g6jrRG",
        "outputId": "f017dade-a7e5-4689-ccfd-8c850f243089"
      },
      "execution_count": null,
      "outputs": [
        {
          "output_type": "stream",
          "name": "stdout",
          "text": [
            "    col 1      col 2   col 3    col 4\n",
            "0       Я      люблю  анализ   данных\n",
            "1  Python        мой  лучший     друг\n",
            "2    Буду  стараться  хорошо  учиться\n"
          ]
        }
      ]
    },
    {
      "cell_type": "markdown",
      "source": [
        "# **ЛЕКЦИЯ 0**"
      ],
      "metadata": {
        "id": "evBtzStCnee_"
      }
    },
    {
      "cell_type": "code",
      "source": [
        "import pandas as pd\n",
        "music = [\n",
        "    ['whiterosemoxie', 'trix'],\n",
        "    ['Kanye West', 'Praise God'],\n",
        "    ['Jay-Z', 'Encore'],\n",
        "    ['Linkin Park', 'Numb'],\n",
        "    ['Soulja Boy', 'Report Card']\n",
        "    ]\n",
        "\n",
        "entries = ['artist', 'track']\n",
        "playlist = pd.DataFrame(data=music, columns=entries)\n",
        "print(playlist)"
      ],
      "metadata": {
        "colab": {
          "base_uri": "https://localhost:8080/"
        },
        "id": "a3yB8b-pnjSo",
        "outputId": "9bc99df5-c16e-44bb-82c2-bb90a2f4e8a7"
      },
      "execution_count": null,
      "outputs": [
        {
          "output_type": "stream",
          "name": "stdout",
          "text": [
            "           artist        track\n",
            "0  whiterosemoxie         trix\n",
            "1      Kanye West   Praise God\n",
            "2           Jay-Z       Encore\n",
            "3     Linkin Park         Numb\n",
            "4      Soulja Boy  Report Card\n"
          ]
        }
      ]
    }
  ]
}